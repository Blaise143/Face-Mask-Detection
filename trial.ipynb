{
 "cells": [
  {
   "cell_type": "code",
   "execution_count": 19,
   "outputs": [],
   "source": [
    "import PIL\n",
    "from PIL import Image\n",
    "import torch\n",
    "img = Image.open('Mask_Data/test/fully_covered/avgkcbjl.jpg')"
   ],
   "metadata": {
    "collapsed": false,
    "pycharm": {
     "name": "#%%\n"
    }
   }
  },
  {
   "cell_type": "code",
   "execution_count": 20,
   "outputs": [
    {
     "data": {
      "text/plain": "'L'"
     },
     "execution_count": 20,
     "metadata": {},
     "output_type": "execute_result"
    }
   ],
   "source": [
    "img.mode"
   ],
   "metadata": {
    "collapsed": false,
    "pycharm": {
     "name": "#%%\n"
    }
   }
  },
  {
   "cell_type": "code",
   "execution_count": 33,
   "outputs": [],
   "source": [
    "import numpy as np\n",
    "import pandas as pd\n",
    "import torch, torchvision\n",
    "import torch.nn.functional as F\n",
    "import torch.nn as nn\n",
    "from torch.utils.data import Dataset, DataLoader\n",
    "from torchvision import transforms, utils\n",
    "\n",
    "class ConvolutionBlock(nn.Module):\n",
    "    def __init__(self, in_channels, out_channels):\n",
    "        super(ConvolutionBlock, self).__init__()\n",
    "\n",
    "        self.convs = nn.Sequential(\n",
    "            nn.Conv2d(in_channels=in_channels, out_channels=out_channels, kernel_size=3, padding=0, stride=1),\n",
    "            nn.BatchNorm2d(out_channels),\n",
    "            nn.MaxPool2d(2),\n",
    "            nn.ReLU()\n",
    "\n",
    "        )\n",
    "\n",
    "    def forward(self, X):\n",
    "        return self.convs(X)\n",
    "\n",
    "class Classifier(nn.Module):\n",
    "    def __init__(self, in_channels,  num_classes) -> None:\n",
    "        super(Classifier, self).__init__()\n",
    "\n",
    "        conv1 = ConvolutionBlock(in_channels= in_channels, out_channels=8)\n",
    "        conv2 = ConvolutionBlock(in_channels= 8, out_channels= 16)\n",
    "        conv3 = ConvolutionBlock(in_channels= 16, out_channels=32)\n",
    "\n",
    "        self.layers = nn.Sequential(conv1, conv2, conv3)\n",
    "\n",
    "        self.fc = nn.Sequential(\n",
    "            nn.Linear(in_features= 1152, out_features= 40),\n",
    "            nn.ReLU(),\n",
    "            nn.Linear(in_features=40, out_features=20),\n",
    "            nn.ReLU(),\n",
    "            nn.Linear(in_features=20, out_features=num_classes)\n",
    "        )\n",
    "\n",
    "    def forward(self, X):\n",
    "        X = self.layers(X)\n",
    "        X = torch.flatten(X)\n",
    "        X = self.fc(X)\n",
    "\n",
    "        return X"
   ],
   "metadata": {
    "collapsed": false,
    "pycharm": {
     "name": "#%%\n"
    }
   }
  },
  {
   "cell_type": "code",
   "execution_count": 36,
   "outputs": [
    {
     "data": {
      "text/plain": "tensor([ 0.2705,  0.1012, -0.1437, -0.2186], grad_fn=<AddBackward0>)"
     },
     "execution_count": 36,
     "metadata": {},
     "output_type": "execute_result"
    }
   ],
   "source": [
    "random = torch.rand(1,1,64,64)\n",
    "trial_ = Classifier(1, 4)\n",
    "output = trial_(random)\n",
    "output"
   ],
   "metadata": {
    "collapsed": false,
    "pycharm": {
     "name": "#%%\n"
    }
   }
  },
  {
   "cell_type": "code",
   "execution_count": null,
   "outputs": [],
   "source": [],
   "metadata": {
    "collapsed": false,
    "pycharm": {
     "name": "#%%\n"
    }
   }
  }
 ],
 "metadata": {
  "kernelspec": {
   "display_name": "Python 3",
   "language": "python",
   "name": "python3"
  },
  "language_info": {
   "codemirror_mode": {
    "name": "ipython",
    "version": 2
   },
   "file_extension": ".py",
   "mimetype": "text/x-python",
   "name": "python",
   "nbconvert_exporter": "python",
   "pygments_lexer": "ipython2",
   "version": "2.7.6"
  }
 },
 "nbformat": 4,
 "nbformat_minor": 0
}