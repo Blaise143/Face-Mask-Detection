{
 "cells": [
  {
   "cell_type": "markdown",
   "metadata": {
    "pycharm": {
     "name": "#%% md\n"
    }
   },
   "source": [
    "### Importing Necessary Packages"
   ]
  },
  {
   "cell_type": "code",
   "execution_count": 1,
   "metadata": {
    "ExecuteTime": {
     "end_time": "2022-08-22T20:39:44.872738Z",
     "start_time": "2022-08-22T20:39:44.856782Z"
    },
    "pycharm": {
     "name": "#%%\n"
    }
   },
   "outputs": [],
   "source": [
    "import numpy as np\n",
    "import pandas as pd\n",
    "import torch\n",
    "import torchvision\n",
    "import torch.nn.functional as F\n",
    "import torch.nn as nn\n",
    "from torch.utils.data import Dataset, DataLoader\n",
    "from torchvision import transforms, utils\n",
    "from tqdm.notebook import tqdm"
   ]
  },
  {
   "cell_type": "markdown",
   "metadata": {
    "pycharm": {
     "name": "#%% md\n"
    }
   },
   "source": [
    "### Convolution Block Emplementation"
   ]
  },
  {
   "cell_type": "code",
   "execution_count": 2,
   "metadata": {
    "ExecuteTime": {
     "end_time": "2022-08-22T20:39:45.293974Z",
     "start_time": "2022-08-22T20:39:45.279013Z"
    },
    "pycharm": {
     "name": "#%%\n"
    }
   },
   "outputs": [],
   "source": [
    "class ConvolutionBlock(nn.Module):\n",
    "    def __init__(self, in_channels: int, out_channels: int):\n",
    "        '''\n",
    "        in_channels: Number of Channels entering the convolution layer\n",
    "        out_channels: Number of filter for the convolution layer\n",
    "        '''\n",
    "        super(ConvolutionBlock, self).__init__()\n",
    "\n",
    "        self.convs = nn.Sequential(\n",
    "            nn.Conv2d(in_channels=in_channels, out_channels=out_channels,\n",
    "                      kernel_size=3, padding=0, stride=1),\n",
    "            nn.BatchNorm2d(out_channels),\n",
    "            nn.MaxPool2d(2),\n",
    "            nn.ReLU()\n",
    "        )\n",
    "\n",
    "    def forward(self, X):\n",
    "        return self.convs(X)"
   ]
  },
  {
   "cell_type": "markdown",
   "metadata": {
    "pycharm": {
     "name": "#%% md\n"
    }
   },
   "source": [
    "### Classifier class"
   ]
  },
  {
   "cell_type": "code",
   "execution_count": 3,
   "outputs": [],
   "source": [
    "class Classifier(nn.Module):\n",
    "    def __init__(self, in_channels: int,  num_classes: int) -> None:\n",
    "        super(Classifier, self).__init__()\n",
    "\n",
    "        conv1 = ConvolutionBlock(in_channels=in_channels, out_channels=8)\n",
    "        dropout1 = nn.Dropout2d(0.5)\n",
    "        conv2 = ConvolutionBlock(in_channels=8, out_channels=16)\n",
    "        dropout2 = nn.Dropout2d(0.5)\n",
    "        conv3 = ConvolutionBlock(in_channels=16, out_channels=32)\n",
    "\n",
    "        self.layers = nn.Sequential(conv1,dropout1, conv2,dropout2, conv3)\n",
    "\n",
    "        self.fc = nn.Sequential(\n",
    "            nn.Linear(in_features=1152, out_features=40),\n",
    "            nn.ReLU(),\n",
    "            nn.Dropout(),\n",
    "            nn.Linear(in_features=40, out_features=20),\n",
    "            nn.ReLU(),\n",
    "            nn.Dropout(),\n",
    "            nn.Linear(in_features=20, out_features=num_classes),\n",
    "            nn.LogSoftmax(dim=-1)\n",
    "        )\n",
    "\n",
    "    def forward(self, X):\n",
    "        X = self.layers(X)\n",
    "        X = X.view(X.shape[0], -1)\n",
    "        X = self.fc(X)\n",
    "        return X"
   ],
   "metadata": {
    "collapsed": false,
    "pycharm": {
     "name": "#%%\n"
    }
   }
  },
  {
   "cell_type": "code",
   "execution_count": 4,
   "outputs": [],
   "source": [
    "def get_dataloaders(path: str, training: bool):\n",
    "    '''\n",
    "    returns a dataloader object given a path to a directory depending on whether or not it is a trainset\n",
    "    '''\n",
    "    transforms = None\n",
    "    if training:\n",
    "        transforms = torchvision.transforms.Compose([\n",
    "            torchvision.transforms.Resize((64, 64)),\n",
    "            torchvision.transforms.ToTensor(),\n",
    "            torchvision.transforms.RandomHorizontalFlip()\n",
    "        ])\n",
    "    else:\n",
    "        transforms = torchvision.transforms.Compose([\n",
    "            torchvision.transforms.Resize((64, 64)),\n",
    "            torchvision.transforms.ToTensor()\n",
    "        ])\n",
    "\n",
    "    data = torchvision.datasets.ImageFolder(\n",
    "        path, transform=transforms)\n",
    "\n",
    "    data_loader = DataLoader(data, batch_size=32, shuffle=training)\n",
    "\n",
    "    return data_loader"
   ],
   "metadata": {
    "collapsed": false,
    "pycharm": {
     "name": "#%%\n"
    }
   }
  },
  {
   "cell_type": "code",
   "execution_count": 5,
   "outputs": [],
   "source": [
    "def calculate_accuracy(y_true, y_pred):\n",
    "    correct = torch.eq(y_true, y_pred).sum().item()\n",
    "    accuracy = (correct/len(y_pred))*100\n",
    "    return accuracy"
   ],
   "metadata": {
    "collapsed": false,
    "pycharm": {
     "name": "#%%\n"
    }
   }
  },
  {
   "cell_type": "code",
   "execution_count": 6,
   "outputs": [
    {
     "data": {
      "text/plain": "  0%|          | 0/30 [00:00<?, ?it/s]",
      "application/vnd.jupyter.widget-view+json": {
       "version_major": 2,
       "version_minor": 0,
       "model_id": "3076a3cb965d4b4ab654aacfd22f9b2c"
      }
     },
     "metadata": {},
     "output_type": "display_data"
    },
    {
     "name": "stdout",
     "output_type": "stream",
     "text": [
      "Epoch: 0, Loss: 0.8493972420692444, Train Accuracy: 73.33333333333333, Val Accuracy: 0.0\n",
      "Epoch: 1, Loss: 0.42253077030181885, Train Accuracy: 80.0, Val Accuracy: 19.047619047619047\n",
      "Epoch: 2, Loss: 0.07340318709611893, Train Accuracy: 100.0, Val Accuracy: 85.71428571428571\n",
      "Epoch: 3, Loss: 0.29017919301986694, Train Accuracy: 93.33333333333333, Val Accuracy: 80.95238095238095\n",
      "Epoch: 4, Loss: 0.020867343991994858, Train Accuracy: 100.0, Val Accuracy: 90.47619047619048\n",
      "Epoch: 5, Loss: 0.14477790892124176, Train Accuracy: 93.33333333333333, Val Accuracy: 100.0\n",
      "Epoch: 6, Loss: 0.018527207896113396, Train Accuracy: 100.0, Val Accuracy: 95.23809523809523\n",
      "Epoch: 7, Loss: 0.178899347782135, Train Accuracy: 93.33333333333333, Val Accuracy: 100.0\n",
      "Epoch: 8, Loss: 0.033872757107019424, Train Accuracy: 100.0, Val Accuracy: 95.23809523809523\n",
      "Epoch: 9, Loss: 0.004430442117154598, Train Accuracy: 100.0, Val Accuracy: 100.0\n",
      "Epoch: 10, Loss: 0.006121724843978882, Train Accuracy: 100.0, Val Accuracy: 90.47619047619048\n",
      "Epoch: 11, Loss: 0.16024886071681976, Train Accuracy: 93.33333333333333, Val Accuracy: 100.0\n",
      "Epoch: 12, Loss: 0.022221660241484642, Train Accuracy: 100.0, Val Accuracy: 95.23809523809523\n",
      "Epoch: 13, Loss: 0.003175819991156459, Train Accuracy: 100.0, Val Accuracy: 95.23809523809523\n",
      "Epoch: 14, Loss: 0.005352115724235773, Train Accuracy: 100.0, Val Accuracy: 100.0\n",
      "Epoch: 15, Loss: 0.0033196434378623962, Train Accuracy: 100.0, Val Accuracy: 100.0\n",
      "Epoch: 16, Loss: 0.00041740076267160475, Train Accuracy: 100.0, Val Accuracy: 95.23809523809523\n",
      "Epoch: 17, Loss: 0.006712422706186771, Train Accuracy: 100.0, Val Accuracy: 100.0\n",
      "Epoch: 18, Loss: 0.004361267667263746, Train Accuracy: 100.0, Val Accuracy: 95.23809523809523\n",
      "Epoch: 19, Loss: 0.00039147905772551894, Train Accuracy: 100.0, Val Accuracy: 100.0\n",
      "Epoch: 20, Loss: 0.0709637776017189, Train Accuracy: 93.33333333333333, Val Accuracy: 100.0\n",
      "Epoch: 21, Loss: 0.00029641654691658914, Train Accuracy: 100.0, Val Accuracy: 100.0\n",
      "Epoch: 22, Loss: 0.006245593540370464, Train Accuracy: 100.0, Val Accuracy: 100.0\n",
      "Epoch: 23, Loss: 0.3479596674442291, Train Accuracy: 93.33333333333333, Val Accuracy: 95.23809523809523\n",
      "Epoch: 24, Loss: 0.062141548842191696, Train Accuracy: 100.0, Val Accuracy: 100.0\n",
      "Epoch: 25, Loss: 0.008271906524896622, Train Accuracy: 100.0, Val Accuracy: 100.0\n",
      "Epoch: 26, Loss: 0.0003392331418581307, Train Accuracy: 100.0, Val Accuracy: 100.0\n",
      "Epoch: 27, Loss: 0.05044149234890938, Train Accuracy: 93.33333333333333, Val Accuracy: 100.0\n",
      "Epoch: 28, Loss: 4.625229848898016e-06, Train Accuracy: 100.0, Val Accuracy: 76.19047619047619\n",
      "Epoch: 29, Loss: 0.0006103610503487289, Train Accuracy: 100.0, Val Accuracy: 100.0\n"
     ]
    }
   ],
   "source": [
    "# def train_model(model=Classifier(in_channels=3, num_classes=4)):\n",
    "\n",
    "train_loss = []\n",
    "train_acc = []\n",
    "val_loss = []\n",
    "val_acc = []\n",
    "\n",
    "model = Classifier(in_channels=3, num_classes=4)\n",
    "\n",
    "criterion = nn.CrossEntropyLoss()\n",
    "optimizer = torch.optim.Adam(params=model.parameters(), lr=0.001)\n",
    "EPOCHS = 30\n",
    "train_loader = get_dataloaders(path='Mask_Data/train', training=True)\n",
    "valid_loader = get_dataloaders(path='Mask_Data/val', training=False)\n",
    "model.train()\n",
    "for epoch in tqdm(range(EPOCHS)):\n",
    "    # for batch_idx, (inputs, labels) in enumerate(train_loader):\n",
    "    for batch in train_loader:\n",
    "        inputs, labels = batch\n",
    "\n",
    "        # Forward pass\n",
    "        y_pred = model.forward(inputs)\n",
    "        # print('y_pred shape: ', y_pred.shape)\n",
    "\n",
    "        # Calculating Accuracy\n",
    "        _, predicted = torch.max(y_pred, dim=1)\n",
    "        train_accuracy = calculate_accuracy(y_true = labels, y_pred = predicted)\n",
    "\n",
    "        # Calculating loss\n",
    "        loss = criterion(input=y_pred, target=labels)\n",
    "\n",
    "        # BackPropagation\n",
    "        loss.backward()\n",
    "        optimizer.step()\n",
    "\n",
    "        # Zero Gradients\n",
    "        optimizer.zero_grad()\n",
    "\n",
    "        #train_loss.append(loss.item())\n",
    "\n",
    "    with torch.no_grad():\n",
    "        validation_loss = 0\n",
    "        model.eval()\n",
    "        for batch in valid_loader:\n",
    "            val_input, val_labels = batch\n",
    "            preds = model.forward(val_input)\n",
    "            _, eval_preds = torch.max(preds, dim=1)\n",
    "            \n",
    "            valid_accuracy = calculate_accuracy(y_true = val_labels, y_pred = eval_preds)\n",
    "            \n",
    "            valid_loss = criterion(input=preds, target=val_labels)\n",
    "\n",
    "            validation_loss += valid_loss.item()\n",
    "            #val_loss.append(validation_loss)\n",
    "    \n",
    "    \n",
    "    train_loss.append(loss.item())\n",
    "    train_acc.append(train_accuracy)\n",
    "    val_loss.append(validation_loss)\n",
    "    val_acc.append(valid_accuracy)\n",
    "    print('Epoch: {}, Loss: {}, Train Accuracy: {}, Val Accuracy: {}'.format(\n",
    "        epoch, loss.item(), train_accuracy, valid_accuracy))\n",
    "\n",
    "\n",
    "#model = train_model()"
   ],
   "metadata": {
    "collapsed": false,
    "pycharm": {
     "name": "#%%\n"
    }
   }
  },
  {
   "cell_type": "code",
   "execution_count": 7,
   "outputs": [
    {
     "data": {
      "text/plain": "<Figure size 432x288 with 1 Axes>",
      "image/png": "[encoded data removed]"
     },
     "metadata": {
      "needs_background": "light"
     },
     "output_type": "display_data"
    }
   ],
   "source": [
    "import matplotlib.pyplot as plt\n",
    "plt.plot(train_loss, label = 'Training Loss')\n",
    "plt.plot(val_loss, label = \"Validation Loss\")\n",
    "plt.plot(val_acc, label = 'Val Accuracy')\n",
    "plt.plot(train_acc, label = 'Train Accuracy')\n",
    "plt.grid()\n",
    "plt.legend()\n",
    "plt.show()\n",
    "plt.close()"
   ],
   "metadata": {
    "collapsed": false,
    "pycharm": {
     "name": "#%%\n"
    }
   }
  },
  {
   "cell_type": "markdown",
   "source": [
    "## Test Set"
   ],
   "metadata": {
    "collapsed": false,
    "pycharm": {
     "name": "#%% md\n"
    }
   }
  },
  {
   "cell_type": "code",
   "execution_count": 8,
   "outputs": [
    {
     "name": "stdout",
     "output_type": "stream",
     "text": [
      "92.0\n"
     ]
    }
   ],
   "source": [
    "test_set = get_dataloaders(path='Mask_Data/test', training=False)\n",
    "with torch.no_grad():\n",
    "        test_loss = 0\n",
    "        model.eval()\n",
    "        for batch in test_set:\n",
    "            test_input, test_labels = batch\n",
    "            preds = model.forward(test_input)\n",
    "            _, test_preds = torch.max(preds, dim=1)\n",
    "            \n",
    "            test_accuracy = calculate_accuracy(y_true = test_labels, y_pred = test_preds)\n",
    "            \n",
    "            #valid_loss = criterion(input=preds, target=val_labels)\n",
    "\n",
    "            #validation_loss += valid_loss.item()\n",
    "print(test_accuracy)"
   ],
   "metadata": {
    "collapsed": false,
    "pycharm": {
     "name": "#%%\n"
    }
   }
  }
 ],
 "metadata": {
  "kernelspec": {
   "display_name": "Python 3 (ipykernel)",
   "language": "python",
   "name": "python3"
  },
  "language_info": {
   "codemirror_mode": {
    "name": "ipython",
    "version": 3
   },
   "file_extension": ".py",
   "mimetype": "text/x-python",
   "name": "python",
   "nbconvert_exporter": "python",
   "pygments_lexer": "ipython3",
   "version": "3.9.13"
  }
 },
 "nbformat": 4,
 "nbformat_minor": 1
}