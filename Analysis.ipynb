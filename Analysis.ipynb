{
 "cells": [
  {
   "cell_type": "markdown",
   "metadata": {
    "pycharm": {
     "name": "#%% md\n"
    }
   },
   "source": [
    "# _**<span style=\"color:#1F618D;\"> Face Mask Image Classification</span>**_\n",
    "\n",
    "<span style=\"color:#148F77;\">Author: Blaise Appolinary</span> [@Blaise](https://blaise-appolinary.netlify.app/)\n",
    "\n",
    "******\n",
    "\n",
    "<a id=\"table-of-contents\"></a>\n",
    "# **<span style=\"color:#1F618D;\">📓 Table of Contents 📓</span>**\n",
    "- [1.😼 About author](#1)\n",
    "- [2. Background and Objective](#2)\n",
    "- [3. Convolution Block Implementation](#3)\n",
    "- [4. Classifier Implementation](#4)\n",
    "- [5. Obtaining DataLoaders](#5)\n",
    "- [6. Train Loop Implementation](#6)\n",
    "- [7. Model Evaluation on Test set](#7)\n",
    "******\n",
    "\n",
    "<a id=\"1\"></a>\n",
    "# <span style=\"color:#1F618D;\">😼 About Me</span>\n",
    "My name is Blaise Appolinary, a Mathematics and Statistics student at the University of British Columbia. I love playing with datasets to gain insights from them through machine learning, statistical analysis and data visualization.\n",
    "\n",
    "\n",
    "<a id=\"2\"></a>\n",
    "# <span style=\"color:#1F618D;\">BackGround and Objective of the project</span>\n",
    "The use of Masks have been very helpful in the fight against the rise of COVID-19 cases globally. The objective of the project is to build a Convolutional Neural Network architecture that can classify different images and detect whether the image has:\n",
    "- a fully covered face by a mask\n",
    "- a partially covered face by a mask\n",
    "- a face not covered by mask\n",
    "- No a face at all\n",
    "\n",
    "<table style='font-size:10'>\n",
    "    <tr>\n",
    "    <th>Fully covered</th>\n",
    "    <th>Partially Covered</th>\n",
    "    <th>Not covered</th>\n",
    "    <th>Not Face</th>\n",
    "    </tr>\n",
    "    </tr>\n",
    "    <tr>\n",
    "    <td> <img src=\"Images/fully_masked1.jpg\" alt=\"Fully Masked\" style=\"width: 70px;\"/> </td>\n",
    "    <td> <img src=\"Images/partially1.jpg\" alt=\"Partially Masked\" style=\"width: 70px;\"/> </td>\n",
    "    <td> <img src=\"Images/not_covered1.jpg\" alt=\"Not Masked\" style=\"width: 70px;\"/> </td>\n",
    "    <td> <img src=\"Images/not_face1.jpg\" alt= \"Not face\" style='width:70px'\"/> </td>\n",
    "    </tr>\n",
    "    <tr>\n",
    "    <td> <img src=\"Images/fully_masked2.jpg\" alt=\"Fully Masked\" style=\"width: 70px;\"/> </td>\n",
    "    <td> <img src=\"Images/partially2.jpg\" alt=\"Partially Masked\" style=\"width: 70px;\"/> </td>\n",
    "    <td> <img src=\"Images/not_covered2.jpg\" alt=\"Not Masked\" style=\"width: 70px;\"/> </td>\n",
    "    <td> <img src=\"Images/not_face2.jpg\" alt= \"Not face\" style='width:70px'\"/> </td>\n",
    "    </tr>\n",
    "</table>\n"
   ]
  },
  {
   "cell_type": "markdown",
   "metadata": {
    "pycharm": {
     "name": "#%% md\n"
    }
   },
   "source": [
    "## <span style=\"color:#1F618D;\">Importing Necessary Packages</span>"
   ]
  },
  {
   "cell_type": "code",
   "execution_count": 1,
   "metadata": {
    "pycharm": {
     "name": "#%%\n"
    }
   },
   "outputs": [],
   "source": [
    "import torch\n",
    "import torchvision\n",
    "import torch.nn as nn\n",
    "from torch.utils.data import Dataset, DataLoader\n",
    "from tqdm.notebook import tqdm"
   ]
  },
  {
   "cell_type": "markdown",
   "metadata": {
    "pycharm": {
     "name": "#%% md\n"
    }
   },
   "source": [
    "<a id=\"3\"></a>\n",
    "## <span style=\"color:#1F618D;\">Convolution Block Implementation</span>\n",
    "\n",
    "The image below shows the design for the convolution block"
   ]
  },
  {
   "cell_type": "markdown",
   "metadata": {
    "pycharm": {
     "name": "#%% md\n"
    }
   },
   "source": [
    "<img src=\"Images/UML class.png\">"
   ]
  },
  {
   "cell_type": "code",
   "execution_count": 2,
   "metadata": {
    "pycharm": {
     "name": "#%%\n"
    }
   },
   "outputs": [],
   "source": [
    "class ConvolutionBlock(nn.Module):\n",
    "    def __init__(self, in_channels: int, out_channels: int):\n",
    "        \"\"\"\n",
    "        An Implementation of the convolutional block\n",
    "        :param in_channels: Number of Channels entering the convolution layer\n",
    "        :param out_channels: Number of filter for the convolution layer\n",
    "        \"\"\"\n",
    "        super(ConvolutionBlock, self).__init__()\n",
    "\n",
    "        self.convs = nn.Sequential(\n",
    "            nn.Conv2d(in_channels=in_channels, out_channels=out_channels,\n",
    "                      kernel_size=3, padding=0, stride=1),\n",
    "            nn.BatchNorm2d(out_channels),\n",
    "            nn.MaxPool2d(2),\n",
    "            nn.ReLU()\n",
    "        )\n",
    "    def forward(self, X):\n",
    "        return self.convs(X)"
   ]
  },
  {
   "cell_type": "markdown",
   "metadata": {
    "pycharm": {
     "name": "#%% md\n"
    }
   },
   "source": [
    "<a id=\"4\"></a>\n",
    "## <span style=\"color:#1F618D;\">Classifier class</span>\n",
    "\n",
    "The image below shows the design of the Classifier Class\n",
    "\n",
    "<img src=\"Images/Classifier.png\">"
   ]
  },
  {
   "cell_type": "code",
   "execution_count": 3,
   "metadata": {
    "pycharm": {
     "name": "#%%\n"
    }
   },
   "outputs": [],
   "source": [
    "class Classifier(nn.Module):\n",
    "    def __init__(self, in_channels: int,  num_classes: int) -> None:\n",
    "        \"\"\"\n",
    "        :param in_channels: Number of Channels of the image\n",
    "        :param num_classes: Number of categories of images (4 in out case)\n",
    "        \"\"\"\n",
    "\n",
    "        super(Classifier, self).__init__()\n",
    "\n",
    "        conv1 = ConvolutionBlock(in_channels=in_channels, out_channels=8)\n",
    "        dropout1 = nn.Dropout2d(0.5)\n",
    "        conv2 = ConvolutionBlock(in_channels=8, out_channels=16)\n",
    "        dropout2 = nn.Dropout2d(0.5)\n",
    "        conv3 = ConvolutionBlock(in_channels=16, out_channels=32)\n",
    "\n",
    "        self.layers = nn.Sequential(conv1,dropout1, conv2,dropout2, conv3)\n",
    "\n",
    "        self.fc = nn.Sequential(\n",
    "            nn.Linear(in_features=1152, out_features=40),\n",
    "            nn.ReLU(),\n",
    "            nn.Dropout(),\n",
    "            nn.Linear(in_features=40, out_features=20),\n",
    "            nn.ReLU(),\n",
    "            nn.Dropout(),\n",
    "            nn.Linear(in_features=20, out_features=num_classes),\n",
    "            nn.LogSoftmax(dim=-1)\n",
    "        )\n",
    "\n",
    "    def forward(self, X):\n",
    "        X = self.layers(X)\n",
    "        X = X.view(X.shape[0], -1)\n",
    "        X = self.fc(X)\n",
    "        return X"
   ]
  },
  {
   "cell_type": "markdown",
   "metadata": {
    "pycharm": {
     "name": "#%% md\n"
    }
   },
   "source": [
    "<a id=\"5\"></a>\n",
    "## <span style=\"color:#1F618D;\">DataLoaders Function</span>\n",
    "The `get_dataloaders` function below does the following:\n",
    "- Reads in the Image data from a given directory\n",
    "- Applies transformations to the images\n",
    "- If the images are from the train set, it applies a random horizontal flip, otherwise not\n",
    "- returns a dataloaders object of the data with a batch size of 32"
   ]
  },
  {
   "cell_type": "code",
   "execution_count": 4,
   "metadata": {
    "pycharm": {
     "name": "#%%\n"
    }
   },
   "outputs": [],
   "source": [
    "def get_dataloaders(path: str, training: bool):\n",
    "    \"\"\"\n",
    "    returns a dataloader object given a path to a directory depending on whether it is a train set\n",
    "    :param training: True if it is a training directory\n",
    "    :param path: A path to a directory containing the image\n",
    "    \"\"\"\n",
    "    transforms = None\n",
    "    if training:\n",
    "        transforms = torchvision.transforms.Compose([\n",
    "            torchvision.transforms.Resize((64, 64)),\n",
    "            torchvision.transforms.ToTensor(),\n",
    "            torchvision.transforms.RandomHorizontalFlip()\n",
    "        ])\n",
    "    else:\n",
    "        transforms = torchvision.transforms.Compose([\n",
    "            torchvision.transforms.Resize((64, 64)),\n",
    "            torchvision.transforms.ToTensor()\n",
    "        ])\n",
    "\n",
    "    data = torchvision.datasets.ImageFolder(\n",
    "        path, transform=transforms)\n",
    "\n",
    "    data_loader = DataLoader(data, batch_size=32, shuffle=training)\n",
    "\n",
    "    return data_loader"
   ]
  },
  {
   "cell_type": "code",
   "execution_count": 5,
   "metadata": {
    "pycharm": {
     "name": "#%%\n"
    }
   },
   "outputs": [],
   "source": [
    "def calculate_accuracy(y_true, y_pred) -> float:\n",
    "    \"\"\"\n",
    "    Calculates the accuracy of the model\n",
    "    :param y_true: True labels\n",
    "    :param y_pred: Predicted labels\n",
    "    :return: Accuracy\n",
    "    \"\"\"\n",
    "    correct = torch.eq(y_true, y_pred).sum().item()\n",
    "    accuracy = (correct/len(y_pred))*100\n",
    "    return accuracy"
   ]
  },
  {
   "cell_type": "markdown",
   "source": [
    "<a id=\"6\"></a>\n",
    "## <span style=\"color:#1F618D;\">Train Loop Implementation</span>"
   ],
   "metadata": {
    "collapsed": false,
    "pycharm": {
     "name": "#%% md\n"
    }
   }
  },
  {
   "cell_type": "code",
   "execution_count": 6,
   "metadata": {
    "pycharm": {
     "name": "#%%\n"
    }
   },
   "outputs": [
    {
     "data": {
      "application/vnd.jupyter.widget-view+json": {
       "model_id": "df87530f657b4a7db7290f2e0fb7beeb",
       "version_major": 2,
       "version_minor": 0
      },
      "text/plain": [
       "  0%|          | 0/15 [00:00<?, ?it/s]"
      ]
     },
     "metadata": {},
     "output_type": "display_data"
    },
    {
     "name": "stdout",
     "output_type": "stream",
     "text": [
      "Epoch: 0, Loss: 1.0356364250183105, Train Accuracy: 46.666666666666664, Val Accuracy: 0.0\n",
      "Epoch: 1, Loss: 0.07953456789255142, Train Accuracy: 100.0, Val Accuracy: 14.285714285714285\n",
      "Epoch: 2, Loss: 0.1807042509317398, Train Accuracy: 93.33333333333333, Val Accuracy: 66.66666666666666\n",
      "Epoch: 3, Loss: 0.053170107305049896, Train Accuracy: 100.0, Val Accuracy: 71.42857142857143\n",
      "Epoch: 4, Loss: 0.18635313212871552, Train Accuracy: 93.33333333333333, Val Accuracy: 85.71428571428571\n",
      "Epoch: 5, Loss: 0.032802458852529526, Train Accuracy: 100.0, Val Accuracy: 80.95238095238095\n",
      "Epoch: 6, Loss: 0.1896732747554779, Train Accuracy: 93.33333333333333, Val Accuracy: 95.23809523809523\n",
      "Epoch: 7, Loss: 0.3720669150352478, Train Accuracy: 93.33333333333333, Val Accuracy: 90.47619047619048\n",
      "Epoch: 8, Loss: 0.3018714487552643, Train Accuracy: 93.33333333333333, Val Accuracy: 85.71428571428571\n",
      "Epoch: 9, Loss: 0.09767886996269226, Train Accuracy: 93.33333333333333, Val Accuracy: 90.47619047619048\n",
      "Epoch: 10, Loss: 0.008540055714547634, Train Accuracy: 100.0, Val Accuracy: 85.71428571428571\n",
      "Epoch: 11, Loss: 0.1937117725610733, Train Accuracy: 86.66666666666667, Val Accuracy: 100.0\n",
      "Epoch: 12, Loss: 0.013836058788001537, Train Accuracy: 100.0, Val Accuracy: 95.23809523809523\n",
      "Epoch: 13, Loss: 0.016918618232011795, Train Accuracy: 100.0, Val Accuracy: 100.0\n",
      "Epoch: 14, Loss: 0.06403740495443344, Train Accuracy: 93.33333333333333, Val Accuracy: 100.0\n"
     ]
    }
   ],
   "source": [
    "# def train_model(model=Classifier(in_channels=3, num_classes=4)):\n",
    "\n",
    "train_loss = []\n",
    "train_acc = []\n",
    "val_loss = []\n",
    "val_acc = []\n",
    "\n",
    "model = Classifier(in_channels=3, num_classes=4)\n",
    "\n",
    "criterion = nn.CrossEntropyLoss()\n",
    "optimizer = torch.optim.Adam(params=model.parameters(), lr=0.001)\n",
    "EPOCHS = 15\n",
    "train_loader = get_dataloaders(path='Mask_Data/train', training=True)\n",
    "valid_loader = get_dataloaders(path='Mask_Data/val', training=False)\n",
    "model.train()\n",
    "for epoch in tqdm(range(EPOCHS)):\n",
    "    # for batch_idx, (inputs, labels) in enumerate(train_loader):\n",
    "    for batch in train_loader:\n",
    "        inputs, labels = batch\n",
    "\n",
    "        # Forward pass\n",
    "        y_pred = model.forward(inputs)\n",
    "\n",
    "        # Calculating Accuracy\n",
    "        _, predicted = torch.max(y_pred, dim=1)\n",
    "        train_accuracy = calculate_accuracy(y_true = labels, y_pred = predicted)\n",
    "\n",
    "        # Calculating loss\n",
    "        loss = criterion(input=y_pred, target=labels)\n",
    "\n",
    "        # BackPropagation\n",
    "        loss.backward()\n",
    "        optimizer.step()\n",
    "\n",
    "        # Zero Gradients\n",
    "        optimizer.zero_grad()\n",
    "\n",
    "    with torch.no_grad():\n",
    "        validation_loss = 0\n",
    "        model.eval()\n",
    "        for batch in valid_loader:\n",
    "            val_input, val_labels = batch\n",
    "            preds = model.forward(val_input)\n",
    "            _, eval_preds = torch.max(preds, dim=1)\n",
    "            \n",
    "            valid_accuracy = calculate_accuracy(y_true = val_labels, y_pred = eval_preds)\n",
    "            \n",
    "            valid_loss = criterion(input=preds, target=val_labels)\n",
    "\n",
    "            validation_loss += valid_loss.item()\n",
    "    \n",
    "    train_loss.append(loss.item())\n",
    "    train_acc.append(train_accuracy)\n",
    "    val_loss.append(validation_loss)\n",
    "    val_acc.append(valid_accuracy)\n",
    "    print('Epoch: {}, Loss: {}, Train Accuracy: {}, Val Accuracy: {}'.format(\n",
    "        epoch, loss.item(), train_accuracy, valid_accuracy))"
   ]
  },
  {
   "cell_type": "code",
   "execution_count": 9,
   "metadata": {
    "pycharm": {
     "name": "#%%\n"
    }
   },
   "outputs": [
    {
     "data": {
      "image/png": "[encoded data removed]",
      "text/plain": [
       "<Figure size 432x288 with 1 Axes>"
      ]
     },
     "metadata": {
      "needs_background": "light"
     },
     "output_type": "display_data"
    }
   ],
   "source": [
    "import matplotlib.pyplot as plt\n",
    "plt.plot(train_loss, label = 'Training Loss')\n",
    "plt.plot(val_loss, label = \"Validation Loss\")\n",
    "plt.plot(val_acc, label = 'Val Accuracy')\n",
    "plt.plot(train_acc, label = 'Train Accuracy')\n",
    "plt.grid()\n",
    "plt.legend()\n",
    "plt.show()\n",
    "plt.close()"
   ]
  },
  {
   "cell_type": "markdown",
   "metadata": {
    "pycharm": {
     "name": "#%% md\n"
    }
   },
   "source": [
    "<a id=\"7\"></a>\n",
    "## <span style=\"color:#1F618D;\">Evaluation on test set</span>"
   ]
  },
  {
   "cell_type": "code",
   "execution_count": 10,
   "metadata": {
    "pycharm": {
     "name": "#%%\n"
    }
   },
   "outputs": [
    {
     "name": "stdout",
     "output_type": "stream",
     "text": [
      "Test Set Accuracy 92.0\n"
     ]
    }
   ],
   "source": [
    "test_set = get_dataloaders(path='Mask_Data/test', training=False)\n",
    "with torch.no_grad():\n",
    "        test_loss = 0\n",
    "        model.eval()\n",
    "        for batch in test_set:\n",
    "            test_input, test_labels = batch\n",
    "            preds = model.forward(test_input)\n",
    "            _, test_preds = torch.max(preds, dim=1)\n",
    "            \n",
    "            test_accuracy = calculate_accuracy(y_true = test_labels, y_pred = test_preds)\n",
    "print(\"Test Set Accuracy\",test_accuracy)"
   ]
  }
 ],
 "metadata": {
  "kernelspec": {
   "display_name": "Python 3 (ipykernel)",
   "language": "python",
   "name": "python3"
  },
  "language_info": {
   "codemirror_mode": {
    "name": "ipython",
    "version": 3
   },
   "file_extension": ".py",
   "mimetype": "text/x-python",
   "name": "python",
   "nbconvert_exporter": "python",
   "pygments_lexer": "ipython3",
   "version": "3.9.13"
  }
 },
 "nbformat": 4,
 "nbformat_minor": 1
}