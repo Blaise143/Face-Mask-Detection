{
 "cells": [
  {
   "cell_type": "code",
   "execution_count": 44,
   "metadata": {
    "ExecuteTime": {
     "end_time": "2022-08-21T07:09:52.520599Z",
     "start_time": "2022-08-21T07:09:52.509629Z"
    },
    "pycharm": {
     "is_executing": true,
     "name": "#%%\n"
    }
   },
   "outputs": [],
   "source": [
    "import numpy as np\n",
    "import pandas as pd\n",
    "import torch\n",
    "import torchvision\n",
    "import torch.nn.functional as F\n",
    "import torch.nn as nn\n",
    "from torch.utils.data import Dataset, DataLoader\n",
    "from torchvision import transforms, utils\n",
    "from tqdm.notebook import tqdm"
   ]
  },
  {
   "cell_type": "code",
   "execution_count": 45,
   "metadata": {
    "ExecuteTime": {
     "end_time": "2022-08-21T07:09:54.737976Z",
     "start_time": "2022-08-21T07:09:54.724013Z"
    },
    "pycharm": {
     "name": "#%%\n"
    }
   },
   "outputs": [],
   "source": [
    "class ConvolutionBlock(nn.Module):\n",
    "    def __init__(self, in_channels, out_channels):\n",
    "        super(ConvolutionBlock, self).__init__()\n",
    "\n",
    "        self.convs = nn.Sequential(\n",
    "            nn.Conv2d(in_channels=in_channels, out_channels=out_channels,\n",
    "                      kernel_size=3, padding=0, stride=1),\n",
    "            nn.BatchNorm2d(out_channels),\n",
    "            nn.MaxPool2d(2),\n",
    "            nn.ReLU()\n",
    "        )\n",
    "\n",
    "    def forward(self, X):\n",
    "        return self.convs(X)"
   ]
  },
  {
   "cell_type": "code",
   "execution_count": 25,
   "metadata": {
    "ExecuteTime": {
     "end_time": "2022-08-21T07:01:47.155906Z",
     "start_time": "2022-08-21T07:01:47.141943Z"
    },
    "pycharm": {
     "name": "#%%\n"
    }
   },
   "outputs": [],
   "source": [
    "class Classifier(nn.Module):\n",
    "    def __init__(self, in_channels,  num_classes) -> None:\n",
    "        super(Classifier, self).__init__()\n",
    "\n",
    "        conv1 = ConvolutionBlock(in_channels=in_channels, out_channels=8)\n",
    "        conv2 = ConvolutionBlock(in_channels=8, out_channels=16)\n",
    "        conv3 = ConvolutionBlock(in_channels=16, out_channels=32)\n",
    "\n",
    "        self.layers = nn.Sequential(conv1, conv2, conv3)\n",
    "\n",
    "        self.fc = nn.Sequential(\n",
    "            nn.Linear(in_features=1152, out_features=40),\n",
    "            nn.ReLU(),\n",
    "            nn.Linear(in_features=40, out_features=20),\n",
    "            nn.ReLU(),\n",
    "            nn.Linear(in_features=20, out_features=num_classes),\n",
    "            nn.LogSoftmax(dim=-1)\n",
    "        )\n",
    "\n",
    "    def forward(self, X):\n",
    "        X = self.layers(X)\n",
    "        X = X.view(X.shape[0], -1)\n",
    "        X = self.fc(X)\n",
    "        return X"
   ]
  },
  {
   "cell_type": "code",
   "execution_count": 40,
   "metadata": {
    "ExecuteTime": {
     "end_time": "2022-08-21T07:05:40.209629Z",
     "start_time": "2022-08-21T07:05:40.203739Z"
    },
    "pycharm": {
     "name": "#%%\n"
    }
   },
   "outputs": [],
   "source": [
    "def get_dataloaders(path: str, training: bool):\n",
    "    transforms = None\n",
    "    if training:\n",
    "        transforms = torchvision.transforms.Compose([\n",
    "            torchvision.transforms.Resize((64, 64)),\n",
    "            torchvision.transforms.ToTensor(),\n",
    "            torchvision.transforms.RandomHorizontalFlip()\n",
    "        ])\n",
    "    else:\n",
    "        transforms = torchvision.transforms.Compose([\n",
    "            torchvision.transforms.Resize((64, 64)),\n",
    "            torchvision.transforms.ToTensor()\n",
    "        ])\n",
    "\n",
    "    data = torchvision.datasets.ImageFolder(\n",
    "        path, transform=transforms)\n",
    "\n",
    "    data_loader = DataLoader(data, batch_size=32, shuffle=training)\n",
    "\n",
    "    return data_loader"
   ]
  },
  {
   "cell_type": "code",
   "execution_count": 46,
   "metadata": {
    "ExecuteTime": {
     "end_time": "2022-08-21T07:33:05.608609Z",
     "start_time": "2022-08-21T07:28:48.800884Z"
    },
    "pycharm": {
     "name": "#%%\n"
    }
   },
   "outputs": [
    {
     "data": {
      "application/vnd.jupyter.widget-view+json": {
       "model_id": "7e1cb312b809432183856654084f98e0",
       "version_major": 2,
       "version_minor": 0
      },
      "text/plain": [
       "  0%|          | 0/30 [00:00<?, ?it/s]"
      ]
     },
     "metadata": {},
     "output_type": "display_data"
    },
    {
     "name": "stdout",
     "output_type": "stream",
     "text": [
      "Epoch: 0, Loss: 0.2563569247722626\n",
      "Epoch: 1, Loss: 0.3352801501750946\n",
      "Epoch: 2, Loss: 0.11568420380353928\n",
      "Epoch: 3, Loss: 0.15402397513389587\n",
      "Epoch: 4, Loss: 0.019899113103747368\n",
      "Epoch: 5, Loss: 0.39992621541023254\n",
      "Epoch: 6, Loss: 0.00027735871844924986\n",
      "Epoch: 7, Loss: 0.029714811593294144\n",
      "Epoch: 8, Loss: 0.01656620390713215\n",
      "Epoch: 9, Loss: 0.03753550723195076\n",
      "Epoch: 10, Loss: 0.0061338203959167\n",
      "Epoch: 11, Loss: 0.0008362559601664543\n",
      "Epoch: 12, Loss: 0.0003340213734190911\n",
      "Epoch: 13, Loss: 0.0010011944686993957\n",
      "Epoch: 14, Loss: 0.05055258050560951\n",
      "Epoch: 15, Loss: 0.024166906252503395\n",
      "Epoch: 16, Loss: 0.0023738828022032976\n",
      "Epoch: 17, Loss: 0.00425967900082469\n",
      "Epoch: 18, Loss: 0.0017131709028035402\n",
      "Epoch: 19, Loss: 0.05694277584552765\n",
      "Epoch: 20, Loss: 0.013967734761536121\n",
      "Epoch: 21, Loss: 0.0017920159734785557\n",
      "Epoch: 22, Loss: 0.0003140699991490692\n",
      "Epoch: 23, Loss: 0.19382494688034058\n",
      "Epoch: 24, Loss: 4.0689569686946925e-06\n",
      "Epoch: 25, Loss: 0.020323496311903\n",
      "Epoch: 26, Loss: 0.0017619834979996085\n",
      "Epoch: 27, Loss: 0.0010602754773572087\n",
      "Epoch: 28, Loss: 0.0010177978547289968\n",
      "Epoch: 29, Loss: 0.011810938827693462\n"
     ]
    }
   ],
   "source": [
    "def train_model(model=Classifier(in_channels=3, num_classes=4)):\n",
    "\n",
    "    train_loss = []\n",
    "    train_acc = []\n",
    "    val_loss = []\n",
    "    val_acc = []\n",
    "\n",
    "    criterion = nn.CrossEntropyLoss()\n",
    "    optimizer = torch.optim.Adam(params=model.parameters(), lr=0.001)\n",
    "    EPOCHS = 30\n",
    "    train_loader = get_dataloaders(path='Mask_Data/train', training=True)\n",
    "    valid_loader = get_dataloaders(path='Mask_Data/val', training=False)\n",
    "    model.train()\n",
    "    for epoch in tqdm(range(EPOCHS)):\n",
    "        # for batch_idx, (inputs, labels) in enumerate(train_loader):\n",
    "        for batch in train_loader:\n",
    "            inputs, labels = batch\n",
    "\n",
    "            # Forward pass\n",
    "            y_pred = model.forward(inputs)\n",
    "           # print('y_pred shape: ', y_pred.shape)\n",
    "\n",
    "            # Calculating loss\n",
    "            loss = criterion(input=y_pred, target=labels)\n",
    "\n",
    "            # BackPropagation\n",
    "            loss.backward()\n",
    "            optimizer.step()\n",
    "\n",
    "            # Zero Gradients\n",
    "            optimizer.zero_grad()\n",
    "\n",
    "        train_loss.append(loss)\n",
    "\n",
    "        with torch.no_grad():\n",
    "            for batch in valid_loader:\n",
    "                val_input, val_labels = batch\n",
    "                preds = model.forward(val_input)\n",
    "\n",
    "                val_loss = criterion(input=preds, target=val_labels)\n",
    "\n",
    "        print('Epoch: {}, Loss: {}'.format(epoch, loss.item()))\n",
    "    return model\n",
    "\n",
    "\n",
    "model = train_model()"
   ]
  }
 ],
 "metadata": {
  "kernelspec": {
   "display_name": "Python 3 (ipykernel)",
   "language": "python",
   "name": "python3"
  },
  "language_info": {
   "codemirror_mode": {
    "name": "ipython",
    "version": 3
   },
   "file_extension": ".py",
   "mimetype": "text/x-python",
   "name": "python",
   "nbconvert_exporter": "python",
   "pygments_lexer": "ipython3",
   "version": "3.9.13"
  }
 },
 "nbformat": 4,
 "nbformat_minor": 1
}
